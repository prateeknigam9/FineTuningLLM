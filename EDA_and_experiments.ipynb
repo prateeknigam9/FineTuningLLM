{
 "cells": [
  {
   "cell_type": "code",
   "execution_count": 2,
   "metadata": {},
   "outputs": [],
   "source": [
    "import pandas as pd\n",
    "import numpy as np"
   ]
  },
  {
   "cell_type": "markdown",
   "metadata": {},
   "source": [
    "Data Source - https://catalog.data.gov/dataset/consumer-complaint-database"
   ]
  },
  {
   "cell_type": "code",
   "execution_count": 3,
   "metadata": {},
   "outputs": [],
   "source": [
    "# data = pd.read_csv('classification_complaints.csv')\n",
    "# master_data = data[['Consumer complaint narrative','Product']]\n",
    "# master_data.to_csv('master_data.csv', index=False)"
   ]
  },
  {
   "cell_type": "code",
   "execution_count": 4,
   "metadata": {},
   "outputs": [
    {
     "data": {
      "text/html": [
       "<div>\n",
       "<style scoped>\n",
       "    .dataframe tbody tr th:only-of-type {\n",
       "        vertical-align: middle;\n",
       "    }\n",
       "\n",
       "    .dataframe tbody tr th {\n",
       "        vertical-align: top;\n",
       "    }\n",
       "\n",
       "    .dataframe thead th {\n",
       "        text-align: right;\n",
       "    }\n",
       "</style>\n",
       "<table border=\"1\" class=\"dataframe\">\n",
       "  <thead>\n",
       "    <tr style=\"text-align: right;\">\n",
       "      <th></th>\n",
       "      <th>Consumer complaint narrative</th>\n",
       "      <th>Product</th>\n",
       "    </tr>\n",
       "  </thead>\n",
       "  <tbody>\n",
       "    <tr>\n",
       "      <th>2405941</th>\n",
       "      <td>XXXX @ XXXX I called Experian to inquire about...</td>\n",
       "      <td>Credit reporting or other personal consumer re...</td>\n",
       "    </tr>\n",
       "    <tr>\n",
       "      <th>4511043</th>\n",
       "      <td>Hi! \\n\\nI'm writing to request that you help m...</td>\n",
       "      <td>Debt collection</td>\n",
       "    </tr>\n",
       "    <tr>\n",
       "      <th>3330813</th>\n",
       "      <td>XXXX is reporting unknown credit accounts. Req...</td>\n",
       "      <td>Credit reporting or other personal consumer re...</td>\n",
       "    </tr>\n",
       "    <tr>\n",
       "      <th>2654597</th>\n",
       "      <td>On XX/XX/2019, XXXX XXXX XXXX XXXX placed a co...</td>\n",
       "      <td>Debt collection</td>\n",
       "    </tr>\n",
       "    <tr>\n",
       "      <th>453349</th>\n",
       "      <td>According to FCRA Section 605B ( a ) the CREDI...</td>\n",
       "      <td>Credit reporting or other personal consumer re...</td>\n",
       "    </tr>\n",
       "  </tbody>\n",
       "</table>\n",
       "</div>"
      ],
      "text/plain": [
       "                              Consumer complaint narrative  \\\n",
       "2405941  XXXX @ XXXX I called Experian to inquire about...   \n",
       "4511043  Hi! \\n\\nI'm writing to request that you help m...   \n",
       "3330813  XXXX is reporting unknown credit accounts. Req...   \n",
       "2654597  On XX/XX/2019, XXXX XXXX XXXX XXXX placed a co...   \n",
       "453349   According to FCRA Section 605B ( a ) the CREDI...   \n",
       "\n",
       "                                                   Product  \n",
       "2405941  Credit reporting or other personal consumer re...  \n",
       "4511043                                    Debt collection  \n",
       "3330813  Credit reporting or other personal consumer re...  \n",
       "2654597                                    Debt collection  \n",
       "453349   Credit reporting or other personal consumer re...  "
      ]
     },
     "execution_count": 4,
     "metadata": {},
     "output_type": "execute_result"
    }
   ],
   "source": [
    "master_data = pd.read_csv('master_data.csv')\n",
    "master_data.drop_duplicates(inplace=True)\n",
    "master_data.sample(5)"
   ]
  },
  {
   "cell_type": "code",
   "execution_count": 5,
   "metadata": {},
   "outputs": [],
   "source": [
    "master_data['label'] = master_data['Product'].factorize()[0]"
   ]
  },
  {
   "cell_type": "code",
   "execution_count": 6,
   "metadata": {},
   "outputs": [
    {
     "data": {
      "text/plain": [
       "Product\n",
       "Credit reporting, credit repair services, or other personal consumer reports    586209\n",
       "Credit reporting or other personal consumer reports                             275606\n",
       "Debt collection                                                                 253605\n",
       "Mortgage                                                                        121720\n",
       "Checking or savings account                                                     106709\n",
       "Credit card or prepaid card                                                     104132\n",
       "Credit card                                                                      50851\n",
       "Student loan                                                                     45495\n",
       "Money transfer, virtual currency, or money service                               43321\n",
       "Vehicle loan or lease                                                            33214\n",
       "Credit reporting                                                                 29827\n",
       "Payday loan, title loan, or personal loan                                        17177\n",
       "Bank account or service                                                          14857\n",
       "Consumer Loan                                                                     9431\n",
       "Prepaid card                                                                      5345\n",
       "Payday loan, title loan, personal loan, or advance loan                           4903\n",
       "Payday loan                                                                       1741\n",
       "Money transfers                                                                   1497\n",
       "Debt or credit management                                                         1245\n",
       "Other financial service                                                            292\n",
       "Virtual currency                                                                    15\n",
       "Name: count, dtype: int64"
      ]
     },
     "execution_count": 6,
     "metadata": {},
     "output_type": "execute_result"
    }
   ],
   "source": [
    "master_data['Product'].value_counts()"
   ]
  },
  {
   "cell_type": "code",
   "execution_count": 7,
   "metadata": {},
   "outputs": [
    {
     "data": {
      "text/plain": [
       "3671792    This company keeps calling and calling and cal...\n",
       "5311196    OCWEN OWES US $ XXXX AS 3RD PARTY CLAIMS LISTE...\n",
       "1528499    Hi My Name is XXXX XXXX, I have premier accoun...\n",
       "6160554    I had a Toyota Corolla that was repossesed due...\n",
       "1477095    attached is the CERTIFIED MAIL FROM USPS XXXX....\n",
       "6537447    I had an account sent to collections that I do...\n",
       "1467461    In accordance with the Fair Credit Reporting a...\n",
       "3485317    The following information currently listed and...\n",
       "826650     On XX/XX/XXXX, I submitted a request to block ...\n",
       "815288     The debt is time-barred ie more than four and ...\n",
       "Name: Consumer complaint narrative, dtype: object"
      ]
     },
     "execution_count": 7,
     "metadata": {},
     "output_type": "execute_result"
    }
   ],
   "source": [
    "master_data['Consumer complaint narrative'].sample(10)"
   ]
  },
  {
   "cell_type": "code",
   "execution_count": 8,
   "metadata": {},
   "outputs": [
    {
     "data": {
      "text/plain": [
       "np.int64(21)"
      ]
     },
     "execution_count": 8,
     "metadata": {},
     "output_type": "execute_result"
    }
   ],
   "source": [
    "master_data['Consumer complaint narrative'].isna().sum()"
   ]
  },
  {
   "cell_type": "code",
   "execution_count": 9,
   "metadata": {},
   "outputs": [
    {
     "data": {
      "text/html": [
       "<div>\n",
       "<style scoped>\n",
       "    .dataframe tbody tr th:only-of-type {\n",
       "        vertical-align: middle;\n",
       "    }\n",
       "\n",
       "    .dataframe tbody tr th {\n",
       "        vertical-align: top;\n",
       "    }\n",
       "\n",
       "    .dataframe thead th {\n",
       "        text-align: right;\n",
       "    }\n",
       "</style>\n",
       "<table border=\"1\" class=\"dataframe\">\n",
       "  <thead>\n",
       "    <tr style=\"text-align: right;\">\n",
       "      <th></th>\n",
       "      <th>Consumer complaint narrative</th>\n",
       "      <th>Product</th>\n",
       "      <th>label</th>\n",
       "    </tr>\n",
       "  </thead>\n",
       "  <tbody>\n",
       "    <tr>\n",
       "      <th>0</th>\n",
       "      <td>NaN</td>\n",
       "      <td>Credit reporting or other personal consumer re...</td>\n",
       "      <td>0</td>\n",
       "    </tr>\n",
       "    <tr>\n",
       "      <th>24</th>\n",
       "      <td>NaN</td>\n",
       "      <td>Credit card</td>\n",
       "      <td>1</td>\n",
       "    </tr>\n",
       "    <tr>\n",
       "      <th>25</th>\n",
       "      <td>NaN</td>\n",
       "      <td>Debt collection</td>\n",
       "      <td>2</td>\n",
       "    </tr>\n",
       "    <tr>\n",
       "      <th>1280</th>\n",
       "      <td>NaN</td>\n",
       "      <td>Vehicle loan or lease</td>\n",
       "      <td>4</td>\n",
       "    </tr>\n",
       "    <tr>\n",
       "      <th>1803</th>\n",
       "      <td>NaN</td>\n",
       "      <td>Debt or credit management</td>\n",
       "      <td>5</td>\n",
       "    </tr>\n",
       "    <tr>\n",
       "      <th>2081</th>\n",
       "      <td>NaN</td>\n",
       "      <td>Payday loan, title loan, personal loan, or adv...</td>\n",
       "      <td>6</td>\n",
       "    </tr>\n",
       "    <tr>\n",
       "      <th>2962</th>\n",
       "      <td>NaN</td>\n",
       "      <td>Mortgage</td>\n",
       "      <td>7</td>\n",
       "    </tr>\n",
       "    <tr>\n",
       "      <th>3616</th>\n",
       "      <td>NaN</td>\n",
       "      <td>Checking or savings account</td>\n",
       "      <td>3</td>\n",
       "    </tr>\n",
       "    <tr>\n",
       "      <th>3671</th>\n",
       "      <td>NaN</td>\n",
       "      <td>Money transfer, virtual currency, or money ser...</td>\n",
       "      <td>8</td>\n",
       "    </tr>\n",
       "    <tr>\n",
       "      <th>3695</th>\n",
       "      <td>NaN</td>\n",
       "      <td>Student loan</td>\n",
       "      <td>9</td>\n",
       "    </tr>\n",
       "    <tr>\n",
       "      <th>3773</th>\n",
       "      <td>NaN</td>\n",
       "      <td>Prepaid card</td>\n",
       "      <td>10</td>\n",
       "    </tr>\n",
       "    <tr>\n",
       "      <th>8618</th>\n",
       "      <td>NaN</td>\n",
       "      <td>Credit reporting, credit repair services, or o...</td>\n",
       "      <td>11</td>\n",
       "    </tr>\n",
       "    <tr>\n",
       "      <th>24643</th>\n",
       "      <td>NaN</td>\n",
       "      <td>Credit reporting</td>\n",
       "      <td>12</td>\n",
       "    </tr>\n",
       "    <tr>\n",
       "      <th>32259</th>\n",
       "      <td>NaN</td>\n",
       "      <td>Consumer Loan</td>\n",
       "      <td>14</td>\n",
       "    </tr>\n",
       "    <tr>\n",
       "      <th>54928</th>\n",
       "      <td>NaN</td>\n",
       "      <td>Bank account or service</td>\n",
       "      <td>16</td>\n",
       "    </tr>\n",
       "    <tr>\n",
       "      <th>55069</th>\n",
       "      <td>NaN</td>\n",
       "      <td>Credit card or prepaid card</td>\n",
       "      <td>13</td>\n",
       "    </tr>\n",
       "    <tr>\n",
       "      <th>75338</th>\n",
       "      <td>NaN</td>\n",
       "      <td>Money transfers</td>\n",
       "      <td>17</td>\n",
       "    </tr>\n",
       "    <tr>\n",
       "      <th>86588</th>\n",
       "      <td>NaN</td>\n",
       "      <td>Payday loan</td>\n",
       "      <td>18</td>\n",
       "    </tr>\n",
       "    <tr>\n",
       "      <th>120825</th>\n",
       "      <td>NaN</td>\n",
       "      <td>Payday loan, title loan, or personal loan</td>\n",
       "      <td>15</td>\n",
       "    </tr>\n",
       "    <tr>\n",
       "      <th>234208</th>\n",
       "      <td>NaN</td>\n",
       "      <td>Other financial service</td>\n",
       "      <td>19</td>\n",
       "    </tr>\n",
       "    <tr>\n",
       "      <th>4645245</th>\n",
       "      <td>NaN</td>\n",
       "      <td>Virtual currency</td>\n",
       "      <td>20</td>\n",
       "    </tr>\n",
       "  </tbody>\n",
       "</table>\n",
       "</div>"
      ],
      "text/plain": [
       "        Consumer complaint narrative  \\\n",
       "0                                NaN   \n",
       "24                               NaN   \n",
       "25                               NaN   \n",
       "1280                             NaN   \n",
       "1803                             NaN   \n",
       "2081                             NaN   \n",
       "2962                             NaN   \n",
       "3616                             NaN   \n",
       "3671                             NaN   \n",
       "3695                             NaN   \n",
       "3773                             NaN   \n",
       "8618                             NaN   \n",
       "24643                            NaN   \n",
       "32259                            NaN   \n",
       "54928                            NaN   \n",
       "55069                            NaN   \n",
       "75338                            NaN   \n",
       "86588                            NaN   \n",
       "120825                           NaN   \n",
       "234208                           NaN   \n",
       "4645245                          NaN   \n",
       "\n",
       "                                                   Product  label  \n",
       "0        Credit reporting or other personal consumer re...      0  \n",
       "24                                             Credit card      1  \n",
       "25                                         Debt collection      2  \n",
       "1280                                 Vehicle loan or lease      4  \n",
       "1803                             Debt or credit management      5  \n",
       "2081     Payday loan, title loan, personal loan, or adv...      6  \n",
       "2962                                              Mortgage      7  \n",
       "3616                           Checking or savings account      3  \n",
       "3671     Money transfer, virtual currency, or money ser...      8  \n",
       "3695                                          Student loan      9  \n",
       "3773                                          Prepaid card     10  \n",
       "8618     Credit reporting, credit repair services, or o...     11  \n",
       "24643                                     Credit reporting     12  \n",
       "32259                                        Consumer Loan     14  \n",
       "54928                              Bank account or service     16  \n",
       "55069                          Credit card or prepaid card     13  \n",
       "75338                                      Money transfers     17  \n",
       "86588                                          Payday loan     18  \n",
       "120825           Payday loan, title loan, or personal loan     15  \n",
       "234208                             Other financial service     19  \n",
       "4645245                                   Virtual currency     20  "
      ]
     },
     "execution_count": 9,
     "metadata": {},
     "output_type": "execute_result"
    }
   ],
   "source": [
    "master_data[master_data['Consumer complaint narrative'].isna()]"
   ]
  },
  {
   "cell_type": "code",
   "execution_count": 10,
   "metadata": {},
   "outputs": [],
   "source": [
    "master_data.dropna(inplace=True)"
   ]
  },
  {
   "cell_type": "code",
   "execution_count": 11,
   "metadata": {},
   "outputs": [
    {
     "data": {
      "text/plain": [
       "21"
      ]
     },
     "execution_count": 11,
     "metadata": {},
     "output_type": "execute_result"
    }
   ],
   "source": [
    "master_data.label.nunique()"
   ]
  },
  {
   "cell_type": "code",
   "execution_count": 12,
   "metadata": {},
   "outputs": [
    {
     "data": {
      "text/html": [
       "<div>\n",
       "<style scoped>\n",
       "    .dataframe tbody tr th:only-of-type {\n",
       "        vertical-align: middle;\n",
       "    }\n",
       "\n",
       "    .dataframe tbody tr th {\n",
       "        vertical-align: top;\n",
       "    }\n",
       "\n",
       "    .dataframe thead th {\n",
       "        text-align: right;\n",
       "    }\n",
       "</style>\n",
       "<table border=\"1\" class=\"dataframe\">\n",
       "  <thead>\n",
       "    <tr style=\"text-align: right;\">\n",
       "      <th></th>\n",
       "      <th>Consumer complaint narrative</th>\n",
       "      <th>Product</th>\n",
       "      <th>label</th>\n",
       "    </tr>\n",
       "  </thead>\n",
       "  <tbody>\n",
       "    <tr>\n",
       "      <th>27</th>\n",
       "      <td>I need your assistance with this incorrect acc...</td>\n",
       "      <td>Credit reporting or other personal consumer re...</td>\n",
       "      <td>0</td>\n",
       "    </tr>\n",
       "    <tr>\n",
       "      <th>63</th>\n",
       "      <td>On XX/XX/XXXX, I filed a formal complaint with...</td>\n",
       "      <td>Credit reporting or other personal consumer re...</td>\n",
       "      <td>0</td>\n",
       "    </tr>\n",
       "    <tr>\n",
       "      <th>1038</th>\n",
       "      <td>Dear Sir/Ma'am, Be advised that the descriptio...</td>\n",
       "      <td>Credit reporting or other personal consumer re...</td>\n",
       "      <td>0</td>\n",
       "    </tr>\n",
       "    <tr>\n",
       "      <th>1040</th>\n",
       "      <td>I'm really not sure what happened. I have mail...</td>\n",
       "      <td>Credit reporting or other personal consumer re...</td>\n",
       "      <td>0</td>\n",
       "    </tr>\n",
       "    <tr>\n",
       "      <th>1041</th>\n",
       "      <td>I am requesting again in regard to the inaccur...</td>\n",
       "      <td>Credit reporting or other personal consumer re...</td>\n",
       "      <td>0</td>\n",
       "    </tr>\n",
       "  </tbody>\n",
       "</table>\n",
       "</div>"
      ],
      "text/plain": [
       "                           Consumer complaint narrative  \\\n",
       "27    I need your assistance with this incorrect acc...   \n",
       "63    On XX/XX/XXXX, I filed a formal complaint with...   \n",
       "1038  Dear Sir/Ma'am, Be advised that the descriptio...   \n",
       "1040  I'm really not sure what happened. I have mail...   \n",
       "1041  I am requesting again in regard to the inaccur...   \n",
       "\n",
       "                                                Product  label  \n",
       "27    Credit reporting or other personal consumer re...      0  \n",
       "63    Credit reporting or other personal consumer re...      0  \n",
       "1038  Credit reporting or other personal consumer re...      0  \n",
       "1040  Credit reporting or other personal consumer re...      0  \n",
       "1041  Credit reporting or other personal consumer re...      0  "
      ]
     },
     "execution_count": 12,
     "metadata": {},
     "output_type": "execute_result"
    }
   ],
   "source": [
    "master_data.head(5)"
   ]
  },
  {
   "cell_type": "code",
   "execution_count": 13,
   "metadata": {},
   "outputs": [
    {
     "data": {
      "text/plain": [
       "(1707171, 3)"
      ]
     },
     "execution_count": 13,
     "metadata": {},
     "output_type": "execute_result"
    }
   ],
   "source": [
    "master_data.shape"
   ]
  },
  {
   "cell_type": "code",
   "execution_count": 17,
   "metadata": {},
   "outputs": [],
   "source": [
    "master_data['length'] = master_data['Consumer complaint narrative'].apply(lambda x: len(x.split(\" \"))).tolist()"
   ]
  },
  {
   "cell_type": "code",
   "execution_count": 19,
   "metadata": {},
   "outputs": [
    {
     "data": {
      "text/plain": [
       "count    1707171\n",
       "mean         206\n",
       "std          252\n",
       "min            1\n",
       "25%           76\n",
       "50%          139\n",
       "75%          248\n",
       "max         6320\n",
       "Name: length, dtype: int64"
      ]
     },
     "execution_count": 19,
     "metadata": {},
     "output_type": "execute_result"
    }
   ],
   "source": [
    "master_data['length'].describe().astype('int')"
   ]
  },
  {
   "cell_type": "code",
   "execution_count": 20,
   "metadata": {},
   "outputs": [],
   "source": [
    "import torch.utils\n",
    "from transformers import AutoTokenizer\n",
    "from torch.utils.data import Dataset, DataLoader\n",
    "import torch\n",
    "import pandas as pd\n",
    "\n",
    "class ClassificationDataset(Dataset):\n",
    "    def __init__(self,ds, tokenizer, padding:bool, truncation:bool, max_length:int):\n",
    "        self.ds = ds      \n",
    "        self.tokenizer = tokenizer\n",
    "        self.padding = padding\n",
    "        self.truncation = truncation\n",
    "        self.max_length = max_length\n",
    "        \n",
    "    def __len__(self):\n",
    "        return len(self.ds)\n",
    "    \n",
    "    def __getitem__(self, idx):\n",
    "        complaint = self.ds.iloc[idx]['Consumer complaint narrative']\n",
    "        label = self.ds.iloc[idx]['label']\n",
    "        \n",
    "        tokenized_complaint = self.tokenizer.encode_plus(complaint,\n",
    "                                                                      padding = self.padding,\n",
    "                                                                      truncation = self.truncation,\n",
    "                                                                      max_length = self.max_length,\n",
    "                                                                      return_attention_mask = True,\n",
    "                                                                      return_tensors = 'pt')\n",
    "        \n",
    "        complaint_ids =  tokenized_complaint['input_ids'].flatten()\n",
    "        attention_mask = tokenized_complaint['attention_mask'].flatten()\n",
    "        label = torch.tensor(label,dtype=torch.int64)        \n",
    "        \n",
    "        return {   \n",
    "            'complaint_ids': complaint_ids,\n",
    "            'attention_mask': attention_mask,\n",
    "            'label': label\n",
    "        }"
   ]
  },
  {
   "cell_type": "code",
   "execution_count": 21,
   "metadata": {},
   "outputs": [],
   "source": [
    "from transformers import AutoTokenizer\n",
    "tokenizer = AutoTokenizer.from_pretrained('distilbert-base-uncased')"
   ]
  },
  {
   "cell_type": "code",
   "execution_count": 22,
   "metadata": {},
   "outputs": [],
   "source": [
    "dataset = ClassificationDataset(master_data, tokenizer, padding=True, truncation=True, max_length=250)"
   ]
  },
  {
   "cell_type": "code",
   "execution_count": 23,
   "metadata": {},
   "outputs": [],
   "source": [
    "train_size = int(len(dataset)*0.8)\n",
    "val_size = len(dataset) - train_size\n",
    "\n",
    "train_dataset, val_dataset = torch.utils.data.random_split(dataset, [train_size, val_size])"
   ]
  },
  {
   "cell_type": "code",
   "execution_count": 25,
   "metadata": {},
   "outputs": [],
   "source": [
    "train_loader = DataLoader(train_dataset, shuffle=True, batch_size=1)"
   ]
  },
  {
   "cell_type": "code",
   "execution_count": 26,
   "metadata": {},
   "outputs": [
    {
     "data": {
      "text/plain": [
       "{'complaint_ids': tensor([[  101, 22038, 20348,  1010, 22038, 20348,  1010,  1004,  1041, 15549,\n",
       "           7011,  2595,  2024,  5719,  2000,  3189, 16542,  2592,  2006,  2026,\n",
       "           7325,  4311,  1012,  2104,  2976,  2375,  7325,  6736,  2024,  3223,\n",
       "           2000,  5441,  2531,  1003, 10640,  1998,  1999,  2023,  2553,  2027,\n",
       "           2024,  2025,  1012,  2045,  2024,  2195,  2171,  8358,  1998,  4769,\n",
       "           2008,  2024, 16542,  1998,  2323,  2022,  3202, 17159,  1012,  2026,\n",
       "           2171,  2003, 22038, 20348, 22038, 20348,  2045,  2323,  2022,  2053,\n",
       "           2060,  3415,  3205,  2006,  2026,  7325,  3189,  2030, 14593,  2229,\n",
       "           1012, 22038, 20348, 22038, 20348, 22038, 20348, 22038, 20348, 22038,\n",
       "          20348, 22038, 20348, 22038, 20348, 22038, 20348, 22038, 20348, 22038,\n",
       "          20348, 22038, 20348, 22038, 20348, 22038, 20348, 22038, 20348, 22038,\n",
       "          20348, 22038, 20348, 22038, 20348, 22038, 20348, 22038, 20348, 22038,\n",
       "          20348, 22038, 20348, 22038, 20348, 22038, 20348, 22038, 20348, 22038,\n",
       "          20348, 22038, 20348, 22038, 20348, 22038, 20348, 22038, 20348, 22038,\n",
       "          20348, 22038, 20348, 22038, 20348, 22038, 20348, 22038, 20348, 22038,\n",
       "          20348, 22038, 20348, 22038, 20348, 22038, 20348, 22038, 20348, 22038,\n",
       "          20348, 22038, 20348, 22038, 20348, 22038, 20348, 22038, 20348, 22038,\n",
       "          20348, 22038, 20348,  1006,  1037,  1007, 10640,  1998, 26935,  1997,\n",
       "           4923,  7316,  1996,  3519,  3084,  1996,  2206,  9556,  1024,  1006,\n",
       "           1015,  1007,  1996,  8169,  2291,  2003,  7790,  2588,  4189,  1998,\n",
       "           8321,  4923,  7316,  1012, 24949,  4923,  4311,  3495, 17727, 11215,\n",
       "           1996,  8122,  1997,  1996,  8169,  2291,  1010,  1998, 15571,  4923,\n",
       "           7316,  4725, 25174,  1996,  2270,  7023,  2029,  2003,  6827,  2000,\n",
       "           1996,  2506, 12285,  1997,  1996,  8169,  2291,  1012,  1006,  1016,\n",
       "           1007,  2019,  9603,  7337,  2038,  2042,  2764,  2005, 11538,   102]]),\n",
       " 'attention_mask': tensor([[1, 1, 1, 1, 1, 1, 1, 1, 1, 1, 1, 1, 1, 1, 1, 1, 1, 1, 1, 1, 1, 1, 1, 1,\n",
       "          1, 1, 1, 1, 1, 1, 1, 1, 1, 1, 1, 1, 1, 1, 1, 1, 1, 1, 1, 1, 1, 1, 1, 1,\n",
       "          1, 1, 1, 1, 1, 1, 1, 1, 1, 1, 1, 1, 1, 1, 1, 1, 1, 1, 1, 1, 1, 1, 1, 1,\n",
       "          1, 1, 1, 1, 1, 1, 1, 1, 1, 1, 1, 1, 1, 1, 1, 1, 1, 1, 1, 1, 1, 1, 1, 1,\n",
       "          1, 1, 1, 1, 1, 1, 1, 1, 1, 1, 1, 1, 1, 1, 1, 1, 1, 1, 1, 1, 1, 1, 1, 1,\n",
       "          1, 1, 1, 1, 1, 1, 1, 1, 1, 1, 1, 1, 1, 1, 1, 1, 1, 1, 1, 1, 1, 1, 1, 1,\n",
       "          1, 1, 1, 1, 1, 1, 1, 1, 1, 1, 1, 1, 1, 1, 1, 1, 1, 1, 1, 1, 1, 1, 1, 1,\n",
       "          1, 1, 1, 1, 1, 1, 1, 1, 1, 1, 1, 1, 1, 1, 1, 1, 1, 1, 1, 1, 1, 1, 1, 1,\n",
       "          1, 1, 1, 1, 1, 1, 1, 1, 1, 1, 1, 1, 1, 1, 1, 1, 1, 1, 1, 1, 1, 1, 1, 1,\n",
       "          1, 1, 1, 1, 1, 1, 1, 1, 1, 1, 1, 1, 1, 1, 1, 1, 1, 1, 1, 1, 1, 1, 1, 1,\n",
       "          1, 1, 1, 1, 1, 1, 1, 1, 1, 1]]),\n",
       " 'label': tensor([0])}"
      ]
     },
     "execution_count": 26,
     "metadata": {},
     "output_type": "execute_result"
    }
   ],
   "source": [
    "next(iter(train_loader))"
   ]
  },
  {
   "cell_type": "code",
   "execution_count": 52,
   "metadata": {},
   "outputs": [
    {
     "data": {
      "text/html": [
       "<div>\n",
       "<style scoped>\n",
       "    .dataframe tbody tr th:only-of-type {\n",
       "        vertical-align: middle;\n",
       "    }\n",
       "\n",
       "    .dataframe tbody tr th {\n",
       "        vertical-align: top;\n",
       "    }\n",
       "\n",
       "    .dataframe thead th {\n",
       "        text-align: right;\n",
       "    }\n",
       "</style>\n",
       "<table border=\"1\" class=\"dataframe\">\n",
       "  <thead>\n",
       "    <tr style=\"text-align: right;\">\n",
       "      <th></th>\n",
       "      <th>label</th>\n",
       "      <th>input_ids</th>\n",
       "      <th>attention_mask</th>\n",
       "    </tr>\n",
       "  </thead>\n",
       "  <tbody>\n",
       "    <tr>\n",
       "      <th>0</th>\n",
       "      <td>tensor(0)</td>\n",
       "      <td>101</td>\n",
       "      <td>1</td>\n",
       "    </tr>\n",
       "    <tr>\n",
       "      <th>1</th>\n",
       "      <td>tensor(0)</td>\n",
       "      <td>1045</td>\n",
       "      <td>1</td>\n",
       "    </tr>\n",
       "    <tr>\n",
       "      <th>2</th>\n",
       "      <td>tensor(0)</td>\n",
       "      <td>2052</td>\n",
       "      <td>1</td>\n",
       "    </tr>\n",
       "    <tr>\n",
       "      <th>3</th>\n",
       "      <td>tensor(0)</td>\n",
       "      <td>2404</td>\n",
       "      <td>1</td>\n",
       "    </tr>\n",
       "    <tr>\n",
       "      <th>4</th>\n",
       "      <td>tensor(0)</td>\n",
       "      <td>2023</td>\n",
       "      <td>1</td>\n",
       "    </tr>\n",
       "    <tr>\n",
       "      <th>...</th>\n",
       "      <td>...</td>\n",
       "      <td>...</td>\n",
       "      <td>...</td>\n",
       "    </tr>\n",
       "    <tr>\n",
       "      <th>149</th>\n",
       "      <td>tensor(0)</td>\n",
       "      <td>1026</td>\n",
       "      <td>1</td>\n",
       "    </tr>\n",
       "    <tr>\n",
       "      <th>150</th>\n",
       "      <td>tensor(0)</td>\n",
       "      <td>7987</td>\n",
       "      <td>1</td>\n",
       "    </tr>\n",
       "    <tr>\n",
       "      <th>151</th>\n",
       "      <td>tensor(0)</td>\n",
       "      <td>1013</td>\n",
       "      <td>1</td>\n",
       "    </tr>\n",
       "    <tr>\n",
       "      <th>152</th>\n",
       "      <td>tensor(0)</td>\n",
       "      <td>1028</td>\n",
       "      <td>1</td>\n",
       "    </tr>\n",
       "    <tr>\n",
       "      <th>153</th>\n",
       "      <td>tensor(0)</td>\n",
       "      <td>102</td>\n",
       "      <td>1</td>\n",
       "    </tr>\n",
       "  </tbody>\n",
       "</table>\n",
       "<p>154 rows × 3 columns</p>\n",
       "</div>"
      ],
      "text/plain": [
       "         label  input_ids  attention_mask\n",
       "0    tensor(0)        101               1\n",
       "1    tensor(0)       1045               1\n",
       "2    tensor(0)       2052               1\n",
       "3    tensor(0)       2404               1\n",
       "4    tensor(0)       2023               1\n",
       "..         ...        ...             ...\n",
       "149  tensor(0)       1026               1\n",
       "150  tensor(0)       7987               1\n",
       "151  tensor(0)       1013               1\n",
       "152  tensor(0)       1028               1\n",
       "153  tensor(0)        102               1\n",
       "\n",
       "[154 rows x 3 columns]"
      ]
     },
     "execution_count": 52,
     "metadata": {},
     "output_type": "execute_result"
    }
   ],
   "source": [
    "pd.DataFrame(tokenized_datasets['train'][5])"
   ]
  },
  {
   "cell_type": "code",
   "execution_count": null,
   "metadata": {},
   "outputs": [],
   "source": []
  },
  {
   "cell_type": "code",
   "execution_count": 49,
   "metadata": {},
   "outputs": [
    {
     "data": {
      "text/html": [
       "<div>\n",
       "<style scoped>\n",
       "    .dataframe tbody tr th:only-of-type {\n",
       "        vertical-align: middle;\n",
       "    }\n",
       "\n",
       "    .dataframe tbody tr th {\n",
       "        vertical-align: top;\n",
       "    }\n",
       "\n",
       "    .dataframe thead th {\n",
       "        text-align: right;\n",
       "    }\n",
       "</style>\n",
       "<table border=\"1\" class=\"dataframe\">\n",
       "  <thead>\n",
       "    <tr style=\"text-align: right;\">\n",
       "      <th></th>\n",
       "      <th>text</th>\n",
       "      <th>label</th>\n",
       "      <th>input_ids</th>\n",
       "      <th>attention_mask</th>\n",
       "    </tr>\n",
       "  </thead>\n",
       "  <tbody>\n",
       "    <tr>\n",
       "      <th>0</th>\n",
       "      <td>I would put this at the top of my list of film...</td>\n",
       "      <td>0</td>\n",
       "      <td>101</td>\n",
       "      <td>1</td>\n",
       "    </tr>\n",
       "    <tr>\n",
       "      <th>1</th>\n",
       "      <td>I would put this at the top of my list of film...</td>\n",
       "      <td>0</td>\n",
       "      <td>1045</td>\n",
       "      <td>1</td>\n",
       "    </tr>\n",
       "    <tr>\n",
       "      <th>2</th>\n",
       "      <td>I would put this at the top of my list of film...</td>\n",
       "      <td>0</td>\n",
       "      <td>2052</td>\n",
       "      <td>1</td>\n",
       "    </tr>\n",
       "    <tr>\n",
       "      <th>3</th>\n",
       "      <td>I would put this at the top of my list of film...</td>\n",
       "      <td>0</td>\n",
       "      <td>2404</td>\n",
       "      <td>1</td>\n",
       "    </tr>\n",
       "    <tr>\n",
       "      <th>4</th>\n",
       "      <td>I would put this at the top of my list of film...</td>\n",
       "      <td>0</td>\n",
       "      <td>2023</td>\n",
       "      <td>1</td>\n",
       "    </tr>\n",
       "    <tr>\n",
       "      <th>...</th>\n",
       "      <td>...</td>\n",
       "      <td>...</td>\n",
       "      <td>...</td>\n",
       "      <td>...</td>\n",
       "    </tr>\n",
       "    <tr>\n",
       "      <th>149</th>\n",
       "      <td>I would put this at the top of my list of film...</td>\n",
       "      <td>0</td>\n",
       "      <td>1026</td>\n",
       "      <td>1</td>\n",
       "    </tr>\n",
       "    <tr>\n",
       "      <th>150</th>\n",
       "      <td>I would put this at the top of my list of film...</td>\n",
       "      <td>0</td>\n",
       "      <td>7987</td>\n",
       "      <td>1</td>\n",
       "    </tr>\n",
       "    <tr>\n",
       "      <th>151</th>\n",
       "      <td>I would put this at the top of my list of film...</td>\n",
       "      <td>0</td>\n",
       "      <td>1013</td>\n",
       "      <td>1</td>\n",
       "    </tr>\n",
       "    <tr>\n",
       "      <th>152</th>\n",
       "      <td>I would put this at the top of my list of film...</td>\n",
       "      <td>0</td>\n",
       "      <td>1028</td>\n",
       "      <td>1</td>\n",
       "    </tr>\n",
       "    <tr>\n",
       "      <th>153</th>\n",
       "      <td>I would put this at the top of my list of film...</td>\n",
       "      <td>0</td>\n",
       "      <td>102</td>\n",
       "      <td>1</td>\n",
       "    </tr>\n",
       "  </tbody>\n",
       "</table>\n",
       "<p>154 rows × 4 columns</p>\n",
       "</div>"
      ],
      "text/plain": [
       "                                                  text  label  input_ids  \\\n",
       "0    I would put this at the top of my list of film...      0        101   \n",
       "1    I would put this at the top of my list of film...      0       1045   \n",
       "2    I would put this at the top of my list of film...      0       2052   \n",
       "3    I would put this at the top of my list of film...      0       2404   \n",
       "4    I would put this at the top of my list of film...      0       2023   \n",
       "..                                                 ...    ...        ...   \n",
       "149  I would put this at the top of my list of film...      0       1026   \n",
       "150  I would put this at the top of my list of film...      0       7987   \n",
       "151  I would put this at the top of my list of film...      0       1013   \n",
       "152  I would put this at the top of my list of film...      0       1028   \n",
       "153  I would put this at the top of my list of film...      0        102   \n",
       "\n",
       "     attention_mask  \n",
       "0                 1  \n",
       "1                 1  \n",
       "2                 1  \n",
       "3                 1  \n",
       "4                 1  \n",
       "..              ...  \n",
       "149               1  \n",
       "150               1  \n",
       "151               1  \n",
       "152               1  \n",
       "153               1  \n",
       "\n",
       "[154 rows x 4 columns]"
      ]
     },
     "execution_count": 49,
     "metadata": {},
     "output_type": "execute_result"
    }
   ],
   "source": [
    "pd.DataFrame(tokenized_datasets['train'][5])"
   ]
  },
  {
   "cell_type": "code",
   "execution_count": 46,
   "metadata": {},
   "outputs": [
    {
     "data": {
      "text/plain": [
       "154"
      ]
     },
     "execution_count": 46,
     "metadata": {},
     "output_type": "execute_result"
    }
   ],
   "source": [
    "len(pd.DataFrame(tokenized_datasets['train'][5])['input_ids'])"
   ]
  },
  {
   "cell_type": "code",
   "execution_count": 47,
   "metadata": {},
   "outputs": [
    {
     "data": {
      "text/plain": [
       "123"
      ]
     },
     "execution_count": 47,
     "metadata": {},
     "output_type": "execute_result"
    }
   ],
   "source": [
    "len(pd.DataFrame(tokenized_datasets['train'][5])['text'][0].split())"
   ]
  },
  {
   "cell_type": "code",
   "execution_count": 13,
   "metadata": {},
   "outputs": [
    {
     "data": {
      "application/vnd.jupyter.widget-view+json": {
       "model_id": "78d467d063d04ff793c3af186698496a",
       "version_major": 2,
       "version_minor": 0
      },
      "text/plain": [
       "model.safetensors:   0%|          | 0.00/268M [00:00<?, ?B/s]"
      ]
     },
     "metadata": {},
     "output_type": "display_data"
    },
    {
     "name": "stderr",
     "output_type": "stream",
     "text": [
      "c:\\Users\\nigam\\anaconda3\\envs\\ml_dev\\Lib\\site-packages\\huggingface_hub\\file_download.py:147: UserWarning: `huggingface_hub` cache-system uses symlinks by default to efficiently store duplicated files but your machine does not support them in C:\\Users\\nigam\\.cache\\huggingface\\hub\\models--distilbert-base-uncased. Caching files will still work but in a degraded version that might require more space on your disk. This warning can be disabled by setting the `HF_HUB_DISABLE_SYMLINKS_WARNING` environment variable. For more details, see https://huggingface.co/docs/huggingface_hub/how-to-cache#limitations.\n",
      "To support symlinks on Windows, you either need to activate Developer Mode or to run Python as an administrator. In order to activate developer mode, see this article: https://docs.microsoft.com/en-us/windows/apps/get-started/enable-your-device-for-development\n",
      "  warnings.warn(message)\n",
      "Some weights of DistilBertForSequenceClassification were not initialized from the model checkpoint at distilbert-base-uncased and are newly initialized: ['classifier.bias', 'classifier.weight', 'pre_classifier.bias', 'pre_classifier.weight']\n",
      "You should probably TRAIN this model on a down-stream task to be able to use it for predictions and inference.\n"
     ]
    }
   ],
   "source": [
    "from transformers import AutoModelForSequenceClassification\n",
    "import torch\n",
    "device = 'cuda' if torch.cuda.is_available() else 'cpu'\n",
    "model = AutoModelForSequenceClassification.from_pretrained('distilbert-base-uncased',\n",
    "                                                               num_labels=21).to(device)\n",
    "    "
   ]
  },
  {
   "cell_type": "code",
   "execution_count": 27,
   "metadata": {},
   "outputs": [
    {
     "data": {
      "text/plain": [
       "{'input_ids': [101, 2023, 2003, 1037, 2482, 102], 'attention_mask': [1, 1, 1, 1, 1, 1]}"
      ]
     },
     "execution_count": 27,
     "metadata": {},
     "output_type": "execute_result"
    }
   ],
   "source": [
    "tokenizer.encode_plus(\"this is a car\", padding=True, truncation=True, max_length=10, return_attention_mask=True)"
   ]
  },
  {
   "cell_type": "code",
   "execution_count": 28,
   "metadata": {},
   "outputs": [
    {
     "data": {
      "text/plain": [
       "[101, 2023, 2003, 1037, 2482, 102]"
      ]
     },
     "execution_count": 28,
     "metadata": {},
     "output_type": "execute_result"
    }
   ],
   "source": [
    "tokenizer.encode_plus(\"this is a car\", padding=True, truncation=True, max_length=6, return_attention_mask=True)['input_ids']"
   ]
  },
  {
   "cell_type": "code",
   "execution_count": null,
   "metadata": {},
   "outputs": [],
   "source": []
  },
  {
   "cell_type": "code",
   "execution_count": null,
   "metadata": {},
   "outputs": [],
   "source": []
  }
 ],
 "metadata": {
  "kernelspec": {
   "display_name": "ml_dev",
   "language": "python",
   "name": "python3"
  },
  "language_info": {
   "codemirror_mode": {
    "name": "ipython",
    "version": 3
   },
   "file_extension": ".py",
   "mimetype": "text/x-python",
   "name": "python",
   "nbconvert_exporter": "python",
   "pygments_lexer": "ipython3",
   "version": "3.12.5"
  }
 },
 "nbformat": 4,
 "nbformat_minor": 2
}
